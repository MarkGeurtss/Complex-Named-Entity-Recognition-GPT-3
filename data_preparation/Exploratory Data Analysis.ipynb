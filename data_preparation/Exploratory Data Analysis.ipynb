{
 "cells": [
  {
   "cell_type": "markdown",
   "id": "5e25ea09-74d6-47e6-bad6-e922f52c3532",
   "metadata": {},
   "source": [
    "# Personal Information\n",
    "Name: **Mark Geurts**\n",
    "\n",
    "StudentID: **14636824**\n",
    "\n",
    "Email: [**mark.geurts@student.uva.nl**](youremail@student.uva.nl)\n",
    "\n",
    "Submitted on: **19.03.2023**\n",
    "\n",
    "Github Link: **https://github.com/MarkGeurtss/master_thesis**"
   ]
  },
  {
   "cell_type": "markdown",
   "id": "e3cf6243-adfe-4eb8-bba3-bb2835079abd",
   "metadata": {},
   "source": [
    "# Data Context\n",
    "The data used in the research is gathered from Task 2 of the 2023 SemEval Challenges. SemEval tasks are international language processing challenges, aimed at advancing the current state-of-the-art in semantic analysis. The data from task 2 is aimed at Named Entity Recognition (NER), and contains individual tokens from sentences and their corresponding NER tags. \n",
    "\n",
    "As an example, the sentence \"the original ferrari daytona replica driven by don johnson in miami vice\" would be represented in the data as:\n",
    "\n",
    "| id |  |  | domain |\n",
    "| :- | :-: | :-: | -: |\n",
    "| the | - | - | O |\n",
    "| original | - | - | O |\n",
    "| ferrari | - | - | B-PROD |\n",
    "| daytona | - | - | I-PROD |\n",
    "| replica | - | - | O |\n",
    "| driven | - | - | O |\n",
    "| by | - | - | O |\n",
    "| don | - | - | B-PER |\n",
    "| johnson | - | - | I-PER |\n",
    "| in | - | - | O |\n",
    "| miami | - | - | B-CW |\n",
    "| vice | - | - | I-CW |\n",
    "\n",
    "The table contains 4 columns with the first containing the token, the second and third being used for spacing, and the fourth containing the NER tag corresponding to the token in the first column of the same row."
   ]
  },
  {
   "cell_type": "markdown",
   "id": "a833d964-56e1-49c7-8172-7435357624aa",
   "metadata": {},
   "source": [
    "# Data Description"
   ]
  },
  {
   "cell_type": "markdown",
   "id": "d288aca6",
   "metadata": {},
   "source": [
    "## Imports"
   ]
  },
  {
   "cell_type": "code",
   "execution_count": 3,
   "id": "508fc05c",
   "metadata": {},
   "outputs": [
    {
     "name": "stdout",
     "output_type": "stream",
     "text": [
      "Requirement already satisfied: textstat in c:\\users\\user\\anaconda3\\lib\\site-packages (0.7.3)\n",
      "Requirement already satisfied: pyphen in c:\\users\\user\\anaconda3\\lib\\site-packages (from textstat) (0.13.2)\n",
      "Note: you may need to restart the kernel to use updated packages.\n",
      "Requirement already satisfied: seaborn in c:\\users\\user\\anaconda3\\lib\\site-packages (0.11.2)\n",
      "Requirement already satisfied: numpy>=1.15 in c:\\users\\user\\anaconda3\\lib\\site-packages (from seaborn) (1.23.5)\n",
      "Requirement already satisfied: pandas>=0.23 in c:\\users\\user\\anaconda3\\lib\\site-packages (from seaborn) (1.4.2)\n",
      "Requirement already satisfied: scipy>=1.0 in c:\\users\\user\\anaconda3\\lib\\site-packages (from seaborn) (1.10.1)\n",
      "Requirement already satisfied: matplotlib>=2.2 in c:\\users\\user\\anaconda3\\lib\\site-packages (from seaborn) (3.5.1)\n",
      "Requirement already satisfied: packaging>=20.0 in c:\\users\\user\\anaconda3\\lib\\site-packages (from matplotlib>=2.2->seaborn) (21.3)\n",
      "Requirement already satisfied: fonttools>=4.22.0 in c:\\users\\user\\anaconda3\\lib\\site-packages (from matplotlib>=2.2->seaborn) (4.25.0)\n",
      "Requirement already satisfied: python-dateutil>=2.7 in c:\\users\\user\\anaconda3\\lib\\site-packages (from matplotlib>=2.2->seaborn) (2.8.2)\n",
      "Requirement already satisfied: cycler>=0.10 in c:\\users\\user\\anaconda3\\lib\\site-packages (from matplotlib>=2.2->seaborn) (0.11.0)\n",
      "Requirement already satisfied: pillow>=6.2.0 in c:\\users\\user\\anaconda3\\lib\\site-packages (from matplotlib>=2.2->seaborn) (9.0.1)\n",
      "Requirement already satisfied: pyparsing>=2.2.1 in c:\\users\\user\\anaconda3\\lib\\site-packages (from matplotlib>=2.2->seaborn) (3.0.4)\n",
      "Requirement already satisfied: kiwisolver>=1.0.1 in c:\\users\\user\\anaconda3\\lib\\site-packages (from matplotlib>=2.2->seaborn) (1.3.2)\n",
      "Requirement already satisfied: pytz>=2020.1 in c:\\users\\user\\anaconda3\\lib\\site-packages (from pandas>=0.23->seaborn) (2021.3)\n",
      "Requirement already satisfied: six>=1.5 in c:\\users\\user\\anaconda3\\lib\\site-packages (from python-dateutil>=2.7->matplotlib>=2.2->seaborn) (1.16.0)\n",
      "Note: you may need to restart the kernel to use updated packages.\n"
     ]
    }
   ],
   "source": [
    "%pip install textstat\n",
    "%pip install seaborn"
   ]
  },
  {
   "cell_type": "code",
   "execution_count": 18,
   "id": "534317db-d881-4e33-a358-754e2881e8bd",
   "metadata": {},
   "outputs": [],
   "source": [
    "# Imports\n",
    "import os\n",
    "import numpy as np\n",
    "import pandas as pd\n",
    "import matplotlib.pyplot as plt\n",
    "from textstat import flesch_reading_ease\n",
    "import seaborn as sns\n",
    "sns.set()\n",
    "\n",
    "import warnings\n",
    "warnings.filterwarnings('ignore')"
   ]
  },
  {
   "cell_type": "markdown",
   "id": "b582b299-f599-4140-a454-bcbfdeeb273f",
   "metadata": {},
   "source": [
    "## Data Loading\n",
    "We remove the two middle columns used for spacing so that the data ends up with two columns, the tokens and tags."
   ]
  },
  {
   "cell_type": "code",
   "execution_count": 55,
   "id": "9f0cf9be-2cac-4227-957f-ad893212e70c",
   "metadata": {},
   "outputs": [
    {
     "name": "stdout",
     "output_type": "stream",
     "text": [
      "           id        domain\n",
      "0      robert    B-OtherPER\n",
      "1  gottschalk    I-OtherPER\n",
      "2        1939             O\n",
      "3     academy  B-VisualWork\n",
      "4       award  I-VisualWork \n",
      "\n",
      "          id      domain\n",
      "0        eli  B-OtherPER\n",
      "1      lilly  I-OtherPER\n",
      "2    founder           O\n",
      "3  president           O\n",
      "4         of           O \n",
      "\n",
      "          id domain\n",
      "0        the      O\n",
      "1    species      O\n",
      "2        was      O\n",
      "3  described      O\n",
      "4         by      O\n"
     ]
    }
   ],
   "source": [
    "# Load in the data file\n",
    "# It should be loaded in as a DataFrame containing the columns \"id\" and \"domain\"\n",
    "# where a row contains a token in the column \"id\" and the corresponding BIO scheme\n",
    "# tag in column \"domain\"\n",
    "\n",
    "train = pd.read_csv(\"...\")\n",
    "train = pd.DataFrame(train)\n",
    "val = pd.read_csv(\"...\")\n",
    "val = pd.DataFrame(val)\n",
    "test = pd.read_csv(\"...\")\n",
    "test = pd.DataFrame(test)\n",
    "\n",
    "print(train.head(), '\\n')\n",
    "print(val.head(), '\\n')\n",
    "print(test.head())"
   ]
  },
  {
   "cell_type": "markdown",
   "id": "b4df9546-a6d7-4678-aca6-cd13d5f3c79a",
   "metadata": {},
   "source": [
    "## Analysis 1: Null Values"
   ]
  },
  {
   "cell_type": "code",
   "execution_count": 212,
   "id": "9fb0d35b",
   "metadata": {
    "scrolled": true
   },
   "outputs": [
    {
     "name": "stdout",
     "output_type": "stream",
     "text": [
      "the training set has 16777 null values,\n",
      "the validation set has 870 null values, \n",
      "and the test set has 249979 null values.\n"
     ]
    }
   ],
   "source": [
    "# Count the number of null values in the data sets\n",
    "train_null = sum(train['domain'].isnull())\n",
    "val_null = sum(val['domain'].isnull())\n",
    "test_null = sum(test['domain'].isnull())\n",
    "\n",
    "print(\"the training set has\", train_null, \"\"\"null values,\n",
    "the validation set has\"\"\", val_null, \"\"\"null values, \n",
    "and the test set has\"\"\", test_null, \"null values.\")"
   ]
  },
  {
   "cell_type": "markdown",
   "id": "c8e8732d",
   "metadata": {},
   "source": [
    "The code cell output above shows that the data sets contain rows with a None value in the domain. We output those rows in the next code cell."
   ]
  },
  {
   "cell_type": "code",
   "execution_count": 148,
   "id": "751d625f",
   "metadata": {},
   "outputs": [
    {
     "name": "stdout",
     "output_type": "stream",
     "text": [
      "                                                   id domain\n",
      "10  # id bb81b9a7-e73d-4977-b6a8-0f7937123dfe\\tdom...   None\n",
      "26  # id d79d2f50-bf45-47c5-96b5-73c3d0ce8914\\tdom...   None \n",
      "\n",
      "                                                   id domain\n",
      "11  # id d7d47dfc-7e5d-48e8-9390-019a3e9476c1\\tdom...   None\n",
      "30  # id 7051b30d-a8e5-4bc3-a83a-eacc863f94d0\\tdom...   None \n",
      "\n",
      "                                                   id domain\n",
      "14  # id 6032c2ff-03f7-44a9-91e1-2ba9ce703152\\tdom...   None\n",
      "35  # id 4dd21f7a-325a-4937-b851-b249db4bfcd4\\tdom...   None\n"
     ]
    }
   ],
   "source": [
    "# Show several of the rows containing null values\n",
    "print(train[train[\"domain\"].isnull()].head(2), '\\n')\n",
    "print(val[val[\"domain\"].isnull()].head(2), '\\n')\n",
    "print(test[test[\"domain\"].isnull()].head(2))"
   ]
  },
  {
   "cell_type": "markdown",
   "id": "a049911c",
   "metadata": {},
   "source": [
    "These rows contain non-entities in the id column which have the domain value None. These rows do not contain actual words and should not be passed on to the models for training, they will be removed from the dataframe."
   ]
  },
  {
   "cell_type": "code",
   "execution_count": 149,
   "id": "a7a30f93",
   "metadata": {},
   "outputs": [],
   "source": [
    "#drop rows with None domain value from the train and test dataframes\n",
    "train = train.dropna(subset=['domain'])\n",
    "val = val.dropna(subset=['domain'])\n",
    "test = test.dropna(subset=['domain'])"
   ]
  },
  {
   "cell_type": "markdown",
   "id": "c2b796dc-f69d-4686-b802-bd0d8f679ee8",
   "metadata": {},
   "source": [
    "## Analysis 2: Data Understanding\n",
    "To get a better understanding of the data we look at shape, the unique entity tags in the domain column, and the distribution of the tags. "
   ]
  },
  {
   "cell_type": "code",
   "execution_count": 150,
   "id": "ef864c8f",
   "metadata": {},
   "outputs": [
    {
     "name": "stdout",
     "output_type": "stream",
     "text": [
      "           id        domain\n",
      "0      robert    B-OtherPER\n",
      "1  gottschalk    I-OtherPER\n",
      "2        1939             O\n",
      "3     academy  B-VisualWork\n",
      "4       award  I-VisualWork \n",
      "\n",
      "          id      domain\n",
      "0        eli  B-OtherPER\n",
      "1      lilly  I-OtherPER\n",
      "2    founder           O\n",
      "3  president           O\n",
      "4         of           O \n",
      "\n",
      "          id domain\n",
      "0        the      O\n",
      "1    species      O\n",
      "2        was      O\n",
      "3  described      O\n",
      "4         by      O\n"
     ]
    }
   ],
   "source": [
    "# Show the first 5 rows of the dataframes\n",
    "print(train.head(), '\\n')\n",
    "print(val.head(), '\\n')\n",
    "print(test.head())"
   ]
  },
  {
   "cell_type": "markdown",
   "id": "8eea037e",
   "metadata": {},
   "source": [
    "The dataframes containing the training and validation data contain two columns \"id\" and \"domain\". The id column contains sentences tokenized, the domain column contains the named entity tags of the tokens."
   ]
  },
  {
   "cell_type": "code",
   "execution_count": 151,
   "id": "5b91c31d",
   "metadata": {},
   "outputs": [
    {
     "name": "stdout",
     "output_type": "stream",
     "text": [
      "the length of the training data is: 253011\n",
      "the length of the validation data is: 13323\n",
      "the length of the test data is: 3773671\n"
     ]
    }
   ],
   "source": [
    "# Print the length of the data sets\n",
    "print('the length of the training data is:', len(train))\n",
    "print('the length of the validation data is:', len(val))\n",
    "print('the length of the test data is:', len(test))"
   ]
  },
  {
   "cell_type": "markdown",
   "id": "0a30c830",
   "metadata": {},
   "source": [
    "We can see that after removing the null values, the training data contains 253011 instances, the validation data contains 13323 instances, and the test data contains 3773671 instances."
   ]
  },
  {
   "cell_type": "code",
   "execution_count": 152,
   "id": "8b5b25b7",
   "metadata": {},
   "outputs": [
    {
     "data": {
      "text/plain": [
       "array(['B-OtherPER', 'I-OtherPER', 'O', 'B-VisualWork', 'I-VisualWork',\n",
       "       'B-ORG', 'B-Artist', 'I-Artist', 'B-HumanSettlement',\n",
       "       'B-WrittenWork', 'B-Software', 'I-Software', 'I-WrittenWork',\n",
       "       'B-Politician', 'I-Politician', 'B-Athlete', 'I-Athlete',\n",
       "       'B-MusicalWork', 'I-MusicalWork', 'I-HumanSettlement',\n",
       "       'B-Facility', 'I-Facility', 'B-Scientist', 'I-Scientist',\n",
       "       'B-Cleric', 'I-Cleric', 'I-ORG', 'B-SportsGRP', 'B-MusicalGRP',\n",
       "       'I-MusicalGRP', 'B-SportsManager', 'I-SportsManager',\n",
       "       'B-PublicCorp', 'I-PublicCorp', 'B-OtherPROD',\n",
       "       'B-MedicalProcedure', 'I-MedicalProcedure', 'B-ArtWork',\n",
       "       'I-ArtWork', 'B-Food', 'I-Food', 'B-Station', 'I-Station',\n",
       "       'I-OtherPROD', 'B-CarManufacturer', 'B-OtherLOC', 'I-OtherLOC',\n",
       "       'B-PrivateCorp', 'I-SportsGRP', 'B-Disease', 'B-Vehicle',\n",
       "       'I-Vehicle', 'I-PrivateCorp', 'B-Medication/Vaccine', 'B-Symptom',\n",
       "       'I-Medication/Vaccine', 'I-Disease', 'B-AnatomicalStructure',\n",
       "       'I-AnatomicalStructure', 'I-Symptom', 'B-AerospaceManufacturer',\n",
       "       'I-CarManufacturer', 'B-Drink', 'I-Drink', 'B-Clothing',\n",
       "       'I-AerospaceManufacturer', 'I-Clothing'], dtype=object)"
      ]
     },
     "execution_count": 152,
     "metadata": {},
     "output_type": "execute_result"
    }
   ],
   "source": [
    "# Show the unique tags in the data\n",
    "train['domain'].unique()"
   ]
  },
  {
   "cell_type": "code",
   "execution_count": 153,
   "id": "663960d8",
   "metadata": {},
   "outputs": [
    {
     "name": "stdout",
     "output_type": "stream",
     "text": [
      "O                       198974\n",
      "I-Artist                  3843\n",
      "B-Artist                  3713\n",
      "B-HumanSettlement         2617\n",
      "I-VisualWork              2281\n",
      "                         ...  \n",
      "I-Symptom                  108\n",
      "I-CarManufacturer          102\n",
      "I-Medication/Vaccine        89\n",
      "I-Clothing                  87\n",
      "I-Drink                     84\n",
      "Name: domain, Length: 67, dtype: int64 \n",
      "\n",
      "O                        10570\n",
      "I-Artist                   217\n",
      "B-Artist                   212\n",
      "I-VisualWork               122\n",
      "I-OtherPER                 122\n",
      "                         ...  \n",
      "I-Medication/Vaccine         6\n",
      "I-AnatomicalStructure        4\n",
      "I-Symptom                    3\n",
      "I-Drink                      2\n",
      "I-Clothing                   2\n",
      "Name: domain, Length: 67, dtype: int64 \n",
      "\n",
      "O                          2969338\n",
      "I-Artist                     59257\n",
      "B-Artist                     57034\n",
      "B-HumanSettlement            41103\n",
      "I-VisualWork                 35656\n",
      "                            ...   \n",
      "I-Symptom                      813\n",
      "B-PrivateCorp                  810\n",
      "I-Drink                        806\n",
      "I-AerospaceManufacturer        802\n",
      "I-PrivateCorp                  757\n",
      "Name: domain, Length: 67, dtype: int64\n",
      "78.64 percent of the tokens have the tag 'O' in the training data\n",
      "79.34 percent of the tokens have the tag 'O' in the validation data\n",
      "78.69 percent of the tokens have the tag 'O' in the test data\n"
     ]
    }
   ],
   "source": [
    "# Show the number of occurences of each tag\n",
    "print(train['domain'].value_counts(), '\\n')\n",
    "print(val['domain'].value_counts(), '\\n')\n",
    "print(test['domain'].value_counts())\n",
    "\n",
    "# Calculate percentage of tokens that have the tag \"O\"\n",
    "train_o_percentage = train['domain'].value_counts().values[0] / len(train) * 100\n",
    "val_o_percentage = val['domain'].value_counts().values[0] / len(val) * 100\n",
    "test_o_percentage = test['domain'].value_counts().values[0] / len(test) * 100\n",
    "\n",
    "print(round(train_o_percentage, 2), \"percent of the tokens have the tag 'O' in the training data\")\n",
    "print(round(val_o_percentage, 2), \"percent of the tokens have the tag 'O' in the validation data\")\n",
    "print(round(test_o_percentage, 2), \"percent of the tokens have the tag 'O' in the test data\")"
   ]
  },
  {
   "cell_type": "markdown",
   "id": "e67a469b",
   "metadata": {},
   "source": [
    "The final code cells show the unique named entity tags in the data and the number of occurences for the named entity tags. It shows that the tag \"O\", meaning \"Outside\", is most common, which makes sense as most tokens are not part of a named entity. The percentage of the tokens labelled \"O\" in the training, validation, and test set are very similar with values of 78.64, 79.34, and 78.69 percent. This suggests that the data sets are likely similar in class distribution, this will be further testes using plots. Despite the fact that the model will also be trained on the tokens labelled with \"O\", it would be interesting to plot the distribution of the tags for just the named entities, thus excluding \"O\"."
   ]
  },
  {
   "cell_type": "code",
   "execution_count": 154,
   "id": "f4311e3e",
   "metadata": {},
   "outputs": [
    {
     "data": {
      "image/png": "[encoded data removed]",
      "text/plain": [
       "<Figure size 432x288 with 1 Axes>"
      ]
     },
     "metadata": {},
     "output_type": "display_data"
    }
   ],
   "source": [
    "# Plot the distribution of named entity tags in the training data\n",
    "\n",
    "# Get the tag counts excluding the \"O\" tag\n",
    "tag_counts = train[train[\"domain\"] != \"O\"][\"domain\"].value_counts()\n",
    "tag_counts = pd.DataFrame(tag_counts).reset_index().rename(columns={'index': 'Tag', 'domain': 'Count'})\n",
    "\n",
    "# create the bar plot using Seaborn\n",
    "ax = sns.barplot(x=tag_counts['Count'], y=tag_counts['Tag'], edgecolor='gray')\n",
    "\n",
    "ax.relim()\n",
    "ax.autoscale_view()\n",
    "ax.margins(y=0.01)  # for a smaller padding, as the default is rather wide\n",
    "\n",
    "# set the x-axis label\n",
    "ax.set_xlabel('Count', fontsize=12)\n",
    "\n",
    "# set the plot title\n",
    "ax.set_title('Named Entity Tag Counts Training Data', fontsize=14)\n",
    "\n",
    "# Remove the y-axis labels\n",
    "ax.set_yticklabels([])\n",
    "\n",
    "# display the plot\n",
    "plt.show()"
   ]
  },
  {
   "cell_type": "code",
   "execution_count": 155,
   "id": "1db25ffc",
   "metadata": {},
   "outputs": [
    {
     "data": {
      "image/png": "[encoded data removed]",
      "text/plain": [
       "<Figure size 432x288 with 1 Axes>"
      ]
     },
     "metadata": {},
     "output_type": "display_data"
    }
   ],
   "source": [
    "# Plot the distribution of named entity tags in the validation data\n",
    "\n",
    "# Get the tag counts excluding the \"O\" tag\n",
    "tag_counts = val[val[\"domain\"] != \"O\"][\"domain\"].value_counts()\n",
    "tag_counts = pd.DataFrame(tag_counts).reset_index().rename(columns={'index': 'Tag', 'domain': 'Count'})\n",
    "\n",
    "# create the bar plot using Seaborn\n",
    "ax = sns.barplot(x=tag_counts['Count'], y=tag_counts['Tag'], edgecolor='gray')\n",
    "\n",
    "ax.relim()\n",
    "ax.autoscale_view()\n",
    "ax.margins(y=0.01)  # for a smaller padding, as the default is rather wide\n",
    "\n",
    "# set the x-axis label\n",
    "ax.set_xlabel('Count', fontsize=12)\n",
    "\n",
    "# set the plot title\n",
    "ax.set_title('Named Entity Tag Counts Validation Data', fontsize=14)\n",
    "\n",
    "# Remove the y-axis labels\n",
    "ax.set_yticklabels([])\n",
    "\n",
    "# display the plot\n",
    "plt.show()"
   ]
  },
  {
   "cell_type": "code",
   "execution_count": 156,
   "id": "3c1b95dc",
   "metadata": {},
   "outputs": [
    {
     "data": {
      "image/png": "[encoded data removed]",
      "text/plain": [
       "<Figure size 432x288 with 1 Axes>"
      ]
     },
     "metadata": {},
     "output_type": "display_data"
    }
   ],
   "source": [
    "# Plot the distribution of named entity tags in the test data\n",
    "\n",
    "# Get the tag counts excluding the \"O\" tag\n",
    "tag_counts = test[test[\"domain\"] != \"O\"][\"domain\"].value_counts()\n",
    "tag_counts = pd.DataFrame(tag_counts).reset_index().rename(columns={'index': 'Tag', 'domain': 'Count'})\n",
    "\n",
    "# create the bar plot using Seaborn\n",
    "ax = sns.barplot(x=tag_counts['Count'], y=tag_counts['Tag'], edgecolor='gray')\n",
    "\n",
    "ax.relim()\n",
    "ax.autoscale_view()\n",
    "ax.margins(y=0.01)  # for a smaller padding, as the default is rather wide\n",
    "\n",
    "# set the x-axis label\n",
    "ax.set_xlabel('Count', fontsize=12)\n",
    "\n",
    "# set the plot title\n",
    "ax.set_title('Named Entity Tag Counts Test Data', fontsize=14)\n",
    "\n",
    "# Remove the y-axis labels\n",
    "ax.set_yticklabels([])\n",
    "\n",
    "# display the plot\n",
    "plt.show()"
   ]
  },
  {
   "cell_type": "markdown",
   "id": "e3c69d32",
   "metadata": {},
   "source": [
    "As there are too many tags to show on the y-axis, the plots are shown without the labels. The plot shows that there is a large class imbalance in the training, validation, and test data, which could cause the models to overfit and be inaccurate. The class imbalance appears consistent for the different data sets. If the models show an underperformance on these under represented tags, it could be considered to add additional data to increase its performance. "
   ]
  },
  {
   "cell_type": "markdown",
   "id": "f273bea3-ecaa-4fac-83d0-5fe547b7873d",
   "metadata": {},
   "source": [
    "## Analysis 3: Sentence Level Analysis\n",
    "The model reads the data as sentences, enabling it to use the context of entities to classify them. So far, the data shown has all been on token level. Using a function a new dataframe will be created containing the complete sentences and the in the sentence included tags. This allows for further data analysis such as the average sentence lengths, tags per sentence, and text complexity scores."
   ]
  },
  {
   "cell_type": "code",
   "execution_count": 157,
   "id": "60074a1b-1ae5-46e8-971f-100199861c9c",
   "metadata": {},
   "outputs": [
    {
     "name": "stdout",
     "output_type": "stream",
     "text": [
      "                                                sentence  \\\n",
      "0      robert gottschalk 1939 academy award winner an...   \n",
      "1      1861 – 1875 ) : further research led in the 19...   \n",
      "2      the ideas were introduced by william burnside ...   \n",
      "3      thaddeus mosley ( a&s 1950 ) – sculptor who wo...   \n",
      "4      alicia gali was imprisoned for eight months fo...   \n",
      "...                                                  ...   \n",
      "13943  they teamed from 1989 to 1991 in the national ...   \n",
      "13944  while laugfs holdings is a notable company in ...   \n",
      "13945  tepper revealed plans to eventually convert th...   \n",
      "13946  he is the co founder of footwear company allbi...   \n",
      "13947  protection of the trademark was later administ...   \n",
      "\n",
      "                                                    tags  \n",
      "0      [B-VisualWork, B-ORG, I-OtherPER, I-VisualWork...  \n",
      "1                                        [O, B-OtherPER]  \n",
      "2                            [O, I-OtherPER, B-OtherPER]  \n",
      "3                            [O, I-OtherPER, B-OtherPER]  \n",
      "4                            [O, I-OtherPER, B-OtherPER]  \n",
      "...                                                  ...  \n",
      "13943    [B-ORG, I-PrivateCorp, B-PrivateCorp, O, I-ORG]  \n",
      "13944                  [B-PrivateCorp, O, I-PrivateCorp]  \n",
      "13945                  [B-PrivateCorp, O, I-PrivateCorp]  \n",
      "13946                                 [B-PrivateCorp, O]  \n",
      "13947                  [B-PrivateCorp, O, I-PrivateCorp]  \n",
      "\n",
      "[13948 rows x 2 columns] \n",
      "\n",
      "                                              sentence  \\\n",
      "0    eli lilly founder president of pharmaceutical ...   \n",
      "1    he was succeeded as chancellor by sir frank ki...   \n",
      "2         it was described by edward meyrick in 1915 .   \n",
      "3    having suffered depredation of the more movabl...   \n",
      "4    it was described by charles joseph gahan in 18...   \n",
      "..                                                 ...   \n",
      "731  he started the theatre group delfont mackintos...   \n",
      "732      first full length production from nfl films .   \n",
      "733  in 1832 aged about 23 he took a position at ro...   \n",
      "734  afpm represents companies including chevron co...   \n",
      "735  the jockey club decided not to re run the race...   \n",
      "\n",
      "                                                  tags  \n",
      "0    [B-PublicCorp, B-OtherPROD, I-OtherPER, O, I-P...  \n",
      "1                          [O, I-OtherPER, B-OtherPER]  \n",
      "2                          [O, I-OtherPER, B-OtherPER]  \n",
      "3                          [O, I-OtherPER, B-OtherPER]  \n",
      "4                          [O, I-OtherPER, B-OtherPER]  \n",
      "..                                                 ...  \n",
      "731                  [B-PrivateCorp, O, I-PrivateCorp]  \n",
      "732                  [B-PrivateCorp, O, I-PrivateCorp]  \n",
      "733  [I-PrivateCorp, B-PrivateCorp, O, B-HumanSettl...  \n",
      "734  [B-PublicCorp, I-PrivateCorp, B-PrivateCorp, O...  \n",
      "735                  [B-PrivateCorp, O, I-PrivateCorp]  \n",
      "\n",
      "[736 rows x 2 columns] \n",
      "\n",
      "                                                 sentence  \\\n",
      "0       the species was described by dietrich brandis ...   \n",
      "1       by this time she was competing against a new g...   \n",
      "2       their son was the opera producer knut hendriks...   \n",
      "3             he is the younger brother of adam mosseri .   \n",
      "4                     smes : laura j. van 't veer et al .   \n",
      "...                                                   ...   \n",
      "208291  pierre omidyar founder of ebay and philanthrop...   \n",
      "208292  she was born in stockholm and began modeling a...   \n",
      "208293  genesis i and genesis ii inflatable space habi...   \n",
      "208294  morgan stanley participated along with previou...   \n",
      "208295  it was an early investor in bytedance xiaomi m...   \n",
      "\n",
      "                                                     tags  \n",
      "0                             [O, I-OtherPER, B-OtherPER]  \n",
      "1                             [O, I-OtherPER, B-OtherPER]  \n",
      "2                             [O, I-OtherPER, B-OtherPER]  \n",
      "3                             [O, I-OtherPER, B-OtherPER]  \n",
      "4                             [O, I-OtherPER, B-OtherPER]  \n",
      "...                                                   ...  \n",
      "208291  [B-Scientist, B-PublicCorp, I-PrivateCorp, I-S...  \n",
      "208292  [B-PrivateCorp, O, I-PrivateCorp, B-HumanSettl...  \n",
      "208293  [I-PrivateCorp, B-OtherPROD, B-PrivateCorp, O,...  \n",
      "208294  [B-PublicCorp, B-ORG, I-PrivateCorp, B-Private...  \n",
      "208295       [B-PrivateCorp, O, B-PublicCorp, B-Software]  \n",
      "\n",
      "[208296 rows x 2 columns]\n"
     ]
    }
   ],
   "source": [
    "# Concatenate words until reaching a period and create new DataFrame\n",
    "def tokens_to_sentences(token_df):\n",
    "    sentences = []\n",
    "    tags = []\n",
    "    current_sentence = ''\n",
    "    current_tags = []\n",
    "    for i, (word, tag) in enumerate(zip(token_df['id'], token_df['domain'])):\n",
    "        current_sentence += str(word) + ' '\n",
    "        current_tags.append(tag)\n",
    "        if word == '.':\n",
    "            sentences.append(current_sentence.strip())\n",
    "            tags.append(list(set(current_tags)))\n",
    "            current_sentence = ''\n",
    "            current_tags = []\n",
    "    sentence_df = pd.DataFrame({'sentence': sentences, 'tags': tags})\n",
    "    return sentence_df\n",
    "\n",
    "# Create sentence dataframe for train and validation data and print\n",
    "train_sentences = tokens_to_sentences(train)\n",
    "val_sentences = tokens_to_sentences(val)\n",
    "test_sentences = tokens_to_sentences(test)\n",
    "\n",
    "print(train_sentences, '\\n')\n",
    "print(val_sentences, '\\n')\n",
    "print(test_sentences)"
   ]
  },
  {
   "cell_type": "code",
   "execution_count": 159,
   "id": "f2a4bc14",
   "metadata": {},
   "outputs": [
    {
     "name": "stdout",
     "output_type": "stream",
     "text": [
      "The training data consists of 13948 sentences\n",
      "The validation data consists of 736 sentences\n",
      "The test data consists of 208296 sentences\n",
      "\n",
      "The average sentence length of the training data is: 18.14\n",
      "The average sentence length of the validation data is: 18.1\n",
      "The average sentence length of the test data is: 18.12 \n",
      "\n",
      "The average number of tags per sentence in the training data is: 2.28\n",
      "The average number of tags per sentence in the validation data is: 2.28\n",
      "The average number of tags per sentence in the test data is: 2.26\n"
     ]
    }
   ],
   "source": [
    "# Calculate average sentence length\n",
    "def average_word_count(sentence_df):\n",
    "    word_count = 0\n",
    "    for sentence in sentence_df['sentence']:\n",
    "        word_count += len(sentence.split(' '))\n",
    "    return word_count/len(sentence_df)\n",
    "    \n",
    "    \n",
    "# Calculate average number of tags per sentence\n",
    "def average_tag_count(sentence_df):\n",
    "    tag_count = 0\n",
    "    for tags in sentence_df['tags']:\n",
    "        tag_count += len(tags) - 1\n",
    "    return tag_count/len(sentence_df)\n",
    "    \n",
    "    \n",
    "print(\"The training data consists of\", len(train_sentences), \"sentences\")\n",
    "print(\"The validation data consists of\", len(val_sentences), \"sentences\")\n",
    "print(\"The test data consists of\", len(test_sentences), \"sentences\\n\")\n",
    "\n",
    "print(\"The average sentence length of the training data is:\", round(average_word_count(train_sentences), 2))\n",
    "print(\"The average sentence length of the validation data is:\", round(average_word_count(val_sentences), 2))\n",
    "print(\"The average sentence length of the test data is:\", round(average_word_count(test_sentences), 2), '\\n')\n",
    "\n",
    "print(\"The average number of tags per sentence in the training data is:\", round(average_tag_count(train_sentences), 2))\n",
    "print(\"The average number of tags per sentence in the validation data is:\", round(average_tag_count(val_sentences), 2))\n",
    "print(\"The average number of tags per sentence in the test data is:\", round(average_tag_count(test_sentences), 2))"
   ]
  },
  {
   "cell_type": "markdown",
   "id": "26027e1d",
   "metadata": {},
   "source": [
    "The code cells above show the functions utilized to create the sentence data frames of the training, validation and test data, and calculates the average word and tag count per sentence. The output shows that although the number of sentences in the data sets are significantly different, the average sentence length and tags per sentence appear to be similar."
   ]
  },
  {
   "cell_type": "markdown",
   "id": "83890b14",
   "metadata": {},
   "source": [
    "## Analysis 4: Complete Named Entities\n",
    "The data utilizes the BIO-Scheme for tagging the named entities. This entails that non-named entities tokens are tagged with \"O\" meaning \"Outside\", the first token of a named entity is tagged with \"B\" for \"Beginning\", and additional tokens belonging to the same entity are tagged with \"I\" for \"Inside\", to show that it is part of the same entity. To count the number of named entities in the data sets a function is created that concatenates the tokens belonging to one entity together."
   ]
  },
  {
   "cell_type": "code",
   "execution_count": 173,
   "id": "2b045939",
   "metadata": {},
   "outputs": [],
   "source": [
    "# Create dataframe containing complete Named Entities and Tag\n",
    "def complete_entities(token_df):\n",
    "    # Initialize variables to keep track of the current entity being built\n",
    "    current_entity_tokens = []\n",
    "    current_entity_domain = None\n",
    "\n",
    "    # Create a new dataframe to store the concatenated entities\n",
    "    concatenated_df = pd.DataFrame(columns=['id', 'domain'])\n",
    "\n",
    "    # Concatenate the tokens that belong to the same entity and add them to the new dataframe\n",
    "    for i, row in token_df.iterrows():\n",
    "        if row['domain'] == 'O':\n",
    "            # End the current entity if the next row contains the domain value \"O\" or if the dataframe ends\n",
    "            if current_entity_tokens:\n",
    "                concatenated_entity = ' '.join(current_entity_tokens)\n",
    "                concatenated_df = concatenated_df.append({'id': concatenated_entity, 'domain': current_entity_domain}, ignore_index=True)\n",
    "                current_entity_tokens = []\n",
    "                current_entity_domain = None\n",
    "        elif 'B-' in row['domain']:\n",
    "            # If a new entity is started, add the previous one to the new dataframe\n",
    "            if current_entity_tokens:\n",
    "                concatenated_entity = ' '.join(current_entity_tokens)\n",
    "                concatenated_df = concatenated_df.append({'id': concatenated_entity, 'domain': current_entity_domain}, ignore_index=True)\n",
    "            # Start building a new entity\n",
    "            current_entity_tokens = [str(row['id'])]\n",
    "            current_entity_domain = row['domain'][2:]\n",
    "        elif 'I-' in row['domain']:\n",
    "            # Add the token to the current entity being built\n",
    "            current_entity_tokens.append(str(row['id']))\n",
    "        else:\n",
    "            raise ValueError(f\"Invalid domain value: {row['domain']}\")\n",
    "\n",
    "    # Add the last entity to the new dataframe if it was not ended in the previous loop iteration\n",
    "    if current_entity_tokens:\n",
    "        concatenated_entity = ' '.join(current_entity_tokens)\n",
    "        concatenated_df = concatenated_df.append({'id': concatenated_entity, 'domain': current_entity_domain}, ignore_index=True)\n",
    "    \n",
    "    return concatenated_df\n",
    "\n",
    "\n",
    "train_concatenated = complete_entities(train)\n",
    "val_concatenated = complete_entities(val)\n",
    "test_concatenated = complete_entities(test)"
   ]
  },
  {
   "cell_type": "markdown",
   "id": "cb7c563e",
   "metadata": {},
   "source": [
    "Several times in this document you can find code to save and read dataframes to and from csv files. This is due to some code cells taking several hours to run, making it more time efficient to save the csv file after completion for easier data loading."
   ]
  },
  {
   "cell_type": "code",
   "execution_count": 175,
   "id": "c90ef01d",
   "metadata": {},
   "outputs": [],
   "source": [
    "train_concatenated.to_csv('...', index=False)\n",
    "val_concatenated.to_csv('...', index=False)\n",
    "test_concatenated.to_csv('...', index=False)"
   ]
  },
  {
   "cell_type": "code",
   "execution_count": 176,
   "id": "11437e2c",
   "metadata": {},
   "outputs": [],
   "source": [
    "train_concatenated = pd.read_csv('...')\n",
    "val_concatenated = pd.read_csv('...')\n",
    "test_concatenated = pd.read_csv('...')"
   ]
  },
  {
   "cell_type": "markdown",
   "id": "fe1b6268",
   "metadata": {},
   "source": [
    "The code cell above shows the first 10 rows of the created dataframe. Each row contains a complete named entity and its corresponding tag. It would be interesting to again look at the entity tag distribution now, for example, B-Artist and I-Artist are counted as one."
   ]
  },
  {
   "cell_type": "code",
   "execution_count": 179,
   "id": "7638dbe9",
   "metadata": {},
   "outputs": [
    {
     "data": {
      "text/plain": [
       "Artist                   3713\n",
       "HumanSettlement          2617\n",
       "Athlete                  1793\n",
       "OtherPER                 1777\n",
       "ORG                      1480\n",
       "VisualWork               1266\n",
       "WrittenWork              1073\n",
       "Facility                 1053\n",
       "Politician               1050\n",
       "MusicalWork               953\n",
       "MusicalGRP                825\n",
       "SportsGRP                 816\n",
       "OtherPROD                 786\n",
       "Software                  593\n",
       "PublicCorp                437\n",
       "Station                   392\n",
       "AnatomicalStructure       388\n",
       "Vehicle                   377\n",
       "Disease                   372\n",
       "Food                      362\n",
       "Medication/Vaccine        355\n",
       "SportsManager             344\n",
       "Scientist                 318\n",
       "Cleric                    299\n",
       "OtherLOC                  291\n",
       "CarManufacturer           249\n",
       "MedicalProcedure          242\n",
       "AerospaceManufacturer     216\n",
       "Drink                     212\n",
       "Symptom                   202\n",
       "PrivateCorp               201\n",
       "ArtWork                   199\n",
       "Clothing                  198\n",
       "Name: domain, dtype: int64"
      ]
     },
     "execution_count": 179,
     "metadata": {},
     "output_type": "execute_result"
    }
   ],
   "source": [
    "train_concatenated['domain'].value_counts()"
   ]
  },
  {
   "cell_type": "code",
   "execution_count": 180,
   "id": "3e9b8a67",
   "metadata": {},
   "outputs": [
    {
     "data": {
      "image/png": "[encoded data removed]",
      "text/plain": [
       "<Figure size 432x288 with 1 Axes>"
      ]
     },
     "metadata": {},
     "output_type": "display_data"
    }
   ],
   "source": [
    "barplot_data = train_concatenated['domain'].value_counts()\n",
    "\n",
    "# create the bar plot using Seaborn\n",
    "ax = sns.barplot(x=barplot_data.values, y=barplot_data.index, edgecolor='gray')\n",
    "\n",
    "ax.relim()\n",
    "ax.autoscale_view()\n",
    "ax.margins(y=0.01)  # for a smaller padding, as the default is rather wide\n",
    "\n",
    "# set the x-axis label\n",
    "ax.set_xlabel('Count', fontsize=12)\n",
    "\n",
    "# set the plot title\n",
    "ax.set_title('Category Counts', fontsize=14)\n",
    "\n",
    "# adjust the font size of the y-axis labels\n",
    "ax.set_yticklabels(ax.get_yticklabels(), fontsize=8)\n",
    "\n",
    "# display the plot\n",
    "plt.show()\n",
    "\n",
    "# display the plot\n",
    "plt.show()"
   ]
  },
  {
   "cell_type": "markdown",
   "id": "5c233c72",
   "metadata": {},
   "source": [
    "It shows that the Artist tag remains the most occuring tag in the training data set, while the Clothing tag remains the least occuring. Additionally, it appears that the class imbalance has not changed. These tags are sub-categories belonging to broader category tags, stated on the SemEval Challenge dataset webpage. For example, the tags: Facility, OtherLOC, HumanSettlement, and Station belong to a larger category \"Location\". The code below assigns the named entities to their corresponding category tag."
   ]
  },
  {
   "cell_type": "code",
   "execution_count": 181,
   "id": "7a208bac",
   "metadata": {},
   "outputs": [
    {
     "name": "stdout",
     "output_type": "stream",
     "text": [
      "                                 id         domain\n",
      "0                 robert gottschalk         Person\n",
      "1                     academy award  Creative Work\n",
      "2                        panavision          Group\n",
      "3                   tongzhi emperor         Person\n",
      "4                           bahadur         Person\n",
      "...                             ...            ...\n",
      "25444  world championship wrestling          Group\n",
      "25445               laugfs holdings          Group\n",
      "25446                 family office          Group\n",
      "25447                      allbirds          Group\n",
      "25448          linux mark institute          Group\n",
      "\n",
      "[25449 rows x 2 columns]\n",
      "['Person' 'Creative Work' 'Group' 'Location' 'Product' 'Medical']\n"
     ]
    }
   ],
   "source": [
    "# Create new column categorizing the domain\n",
    "LOCATION = ['Facility', 'OtherLOC', 'HumanSettlement', 'Station']\n",
    "CREATIVE_WORK = ['VisualWork', 'MusicalWork', 'WrittenWork', 'ArtWork', 'Software']\n",
    "GROUP = ['MusicalGRP', 'PublicCorp', 'PrivateCorp', 'AerospaceManufacturer', 'SportsGRP', 'CarManufacturer', 'ORG']\n",
    "PERSON = ['Scientist', 'Artist', 'Athlete', 'Politician', 'Cleric', 'SportsManager', 'OtherPER']\n",
    "PRODUCT = ['Clothing', 'Vehicle', 'Food', 'Drink', 'OtherPROD']\n",
    "MEDICAL = ['Medication/Vaccine', 'MedicalProcedure', 'AnatomicalStructure', 'Symptom', 'Disease']\n",
    "\n",
    "# Function for assigning the new tag categories\n",
    "def categorize_tags(entity_df):\n",
    "    category_df = pd.DataFrame(columns=['id', 'domain'])\n",
    "\n",
    "    for index, row in train_concatenated.iterrows():\n",
    "        if row['domain'] in (LOCATION):\n",
    "            category_df = category_df.append({'id': row['id'], 'domain': 'Location'}, ignore_index=True)\n",
    "        elif row['domain'] in (CREATIVE_WORK):\n",
    "            category_df = category_df.append({'id': row['id'], 'domain': 'Creative Work'}, ignore_index=True)\n",
    "        elif row['domain'] in (GROUP):\n",
    "            category_df = category_df.append({'id': row['id'], 'domain': 'Group'}, ignore_index=True)\n",
    "        elif row['domain'] in (PERSON):\n",
    "            category_df = category_df.append({'id': row['id'], 'domain': 'Person'}, ignore_index=True)\n",
    "        elif row['domain'] in (PRODUCT):\n",
    "            category_df = category_df.append({'id': row['id'], 'domain': 'Product'}, ignore_index=True)\n",
    "        elif row['domain'] in (MEDICAL):\n",
    "            category_df = category_df.append({'id': row['id'], 'domain': 'Medical'}, ignore_index=True)\n",
    "    \n",
    "    return category_df\n",
    "\n",
    "train_conc_category = categorize_tags(train_concatenated)\n",
    "val_conc_category = categorize_tags(val_concatenated)\n",
    "test_conc_category = categorize_tags(test_concatenated)\n",
    "\n",
    "print(train_conc_category)\n",
    "print(train_conc_category['domain'].unique())  "
   ]
  },
  {
   "cell_type": "code",
   "execution_count": 182,
   "id": "e8f79edb",
   "metadata": {},
   "outputs": [],
   "source": [
    "train_conc_category.to_csv('...', index=False)\n",
    "val_conc_category.to_csv('...', index=False)\n",
    "test_conc_category.to_csv('...', index=False)"
   ]
  },
  {
   "cell_type": "code",
   "execution_count": 183,
   "id": "86e5b4eb",
   "metadata": {},
   "outputs": [],
   "source": [
    "train_conc_category = pd.read_csv('...')\n",
    "val_conc_category = pd.read_csv('...')\n",
    "test_conc_category = pd.read_csv('...')"
   ]
  },
  {
   "cell_type": "markdown",
   "id": "f1abf756",
   "metadata": {},
   "source": [
    "Using the newly created dataframe the distributions of the categories can be observed. An imbalance in the data could lead to a worse performance on the under represented categories."
   ]
  },
  {
   "cell_type": "code",
   "execution_count": 185,
   "id": "18f8945b",
   "metadata": {},
   "outputs": [
    {
     "data": {
      "image/png": "[encoded data removed]",
      "text/plain": [
       "<Figure size 432x288 with 1 Axes>"
      ]
     },
     "metadata": {},
     "output_type": "display_data"
    }
   ],
   "source": [
    "# Get the category counts\n",
    "barplot_data = train_conc_category['domain'].value_counts()\n",
    "\n",
    "# create the bar plot using Seaborn\n",
    "ax = sns.barplot(x=barplot_data.values, y=barplot_data.index, edgecolor='gray')\n",
    "\n",
    "ax.relim()\n",
    "ax.autoscale_view()\n",
    "ax.margins(y=0.01)  # for a smaller padding, as the default is rather wide\n",
    "\n",
    "# set the x-axis label\n",
    "ax.set_xlabel('Count', fontsize=12)\n",
    "\n",
    "# set the plot title\n",
    "ax.set_title('Category Counts', fontsize=14)\n",
    "\n",
    "# adjust the font size of the y-axis labels\n",
    "ax.set_yticklabels(ax.get_yticklabels(), fontsize=13)\n",
    "\n",
    "# display the plot\n",
    "plt.show()\n",
    "\n",
    "# display the plot\n",
    "plt.show()"
   ]
  },
  {
   "cell_type": "markdown",
   "id": "70e22c27",
   "metadata": {},
   "source": [
    "The training data was shown to have 25449 named entities, consisting of 6 different tag categories. In case the data is perfectly balanced, the expected count per category is $25449 / 6 = 4241.5$ instances. The plot shows that the Person category is noticeably the most common in the data, with a count of around 9300. This means that the category is largely over represented in the data, possibly causing the model to overfit. Next, the Location, Group and Creative Work category have similar counts around the expected value. Lastly, the Product and Medical category are under represented with around 1800 instances, far below the expected value. "
   ]
  },
  {
   "cell_type": "markdown",
   "id": "19413494",
   "metadata": {},
   "source": [
    "## Analysis 5: Duplicates\n",
    "We check whether the data includes a large amount of duplicates, where the row token and tag are identical. If a token and tag combination appears a lot in the data the model could overfit, thus decreasing its accuracy."
   ]
  },
  {
   "cell_type": "code",
   "execution_count": 188,
   "id": "d7c7b327",
   "metadata": {},
   "outputs": [
    {
     "name": "stdout",
     "output_type": "stream",
     "text": [
      "The most occuring token for the OtherPER tag is edward meyrick with 18 occurences.\n",
      "The most occuring token for the VisualWork tag is music video with 8 occurences.\n",
      "The most occuring token for the ORG tag is united states census bureau with 48 occurences.\n",
      "The most occuring token for the Artist tag is duke ellington with 7 occurences.\n",
      "The most occuring token for the HumanSettlement tag is new york city with 29 occurences.\n",
      "The most occuring token for the WrittenWork tag is national register of historic places with 137 occurences.\n",
      "The most occuring token for the Software tag is youtube with 34 occurences.\n",
      "The most occuring token for the Politician tag is lord walsingham with 4 occurences.\n",
      "The most occuring token for the Athlete tag is kyle larson with 5 occurences.\n",
      "The most occuring token for the MusicalWork tag is opera with 8 occurences.\n",
      "The most occuring token for the Facility tag is metropolitan museum of art with 7 occurences.\n",
      "The most occuring token for the Scientist tag is spider-man with 4 occurences.\n",
      "The most occuring token for the Cleric tag is paulin martin with 6 occurences.\n",
      "The most occuring token for the SportsGRP tag is new york jets with 10 occurences.\n",
      "The most occuring token for the MusicalGRP tag is the beatles with 9 occurences.\n",
      "The most occuring token for the SportsManager tag is bob baffert with 2 occurences.\n",
      "The most occuring token for the PublicCorp tag is netflix with 16 occurences.\n",
      "The most occuring token for the OtherPROD tag is playstation 3 with 7 occurences.\n",
      "The most occuring token for the MedicalProcedure tag is chemotherapy with 7 occurences.\n",
      "The most occuring token for the ArtWork tag is installation art with 7 occurences.\n",
      "The most occuring token for the Food tag is salt with 6 occurences.\n",
      "The most occuring token for the Station tag is malmö with 4 occurences.\n",
      "The most occuring token for the CarManufacturer tag is toyota with 11 occurences.\n",
      "The most occuring token for the OtherLOC tag is songwriters hall of fame with 4 occurences.\n",
      "The most occuring token for the PrivateCorp tag is chanel with 19 occurences.\n",
      "The most occuring token for the Disease tag is tuberculosis with 12 occurences.\n",
      "The most occuring token for the Vehicle tag is schooner with 7 occurences.\n",
      "The most occuring token for the Medication/Vaccine tag is iron with 7 occurences.\n",
      "The most occuring token for the Symptom tag is pain with 10 occurences.\n",
      "The most occuring token for the AnatomicalStructure tag is petiole with 15 occurences.\n",
      "The most occuring token for the AerospaceManufacturer tag is british aerospace with 9 occurences.\n",
      "The most occuring token for the Drink tag is coffee with 13 occurences.\n",
      "The most occuring token for the Clothing tag is pilasters with 18 occurences.\n"
     ]
    }
   ],
   "source": [
    "entity_tags = ['OtherPER', 'VisualWork', 'ORG', 'Artist', 'HumanSettlement',\n",
    "       'WrittenWork', 'Software', 'Politician', 'Athlete', 'MusicalWork',\n",
    "       'Facility', 'Scientist', 'Cleric', 'SportsGRP', 'MusicalGRP',\n",
    "       'SportsManager', 'PublicCorp', 'OtherPROD', 'MedicalProcedure',\n",
    "       'ArtWork', 'Food', 'Station', 'CarManufacturer', 'OtherLOC',\n",
    "       'PrivateCorp', 'Disease', 'Vehicle', 'Medication/Vaccine',\n",
    "       'Symptom', 'AnatomicalStructure', 'AerospaceManufacturer', 'Drink',\n",
    "       'Clothing']\n",
    "\n",
    "# Prints the number of occurences for the most occuring token per tag\n",
    "def token_duplicates(named_entities):\n",
    "    for tag in entity_tags:\n",
    "        tag_token_counts = named_entities[named_entities['domain'] == tag]['id'].value_counts()\n",
    "        token = tag_token_counts.index[0]\n",
    "        token_count = tag_token_counts.iloc[0]\n",
    "        print('The most occuring token for the', tag, 'tag is', token, 'with', token_count, 'occurences.')\n",
    "        \n",
    "token_duplicates(train_concatenated)"
   ]
  },
  {
   "cell_type": "markdown",
   "id": "a64fbf08",
   "metadata": {},
   "source": [
    "The function is applied to the training, validation and test data and shows that there is no significant amount of duplicates in the data."
   ]
  },
  {
   "cell_type": "markdown",
   "id": "bf7094b2",
   "metadata": {},
   "source": [
    "## Analysis 6: Text Complexity\n",
    "The text complexity of a sentence could affect the accuracy of the Named Entity Recognition system. The systems commonly utilize the context given in a sentence to classify the entities. It would be interesting to see whether a higher text complexity could lead to difficulties for the system in understanding the context, and thus being less accurate. To acquire the text complexity scores the function flesch_reading_ease from the python library textstat is used. The Flesch Reading Ease (FRE) score assigns a rating, where the higher the rating the easier the text. A score of 60+ has a difficulty that fourth graders could understand, 45-60 is high school level, and 0-45 is college level."
   ]
  },
  {
   "cell_type": "code",
   "execution_count": 189,
   "id": "9abe0721",
   "metadata": {},
   "outputs": [],
   "source": [
    "# Function to compute the text complexity for each sentence\n",
    "def text_complexity(sentence_df):\n",
    "    flesch_scores = []    \n",
    "    \n",
    "    for index, row in sentence_df.iterrows():\n",
    "        flesch_score = flesch_reading_ease(row['sentence'])\n",
    "        flesch_scores.append(flesch_score)\n",
    "\n",
    "    tc_sentence_df = sentence_df.assign(text_complexity = flesch_scores)\n",
    "    \n",
    "    return tc_sentence_df"
   ]
  },
  {
   "cell_type": "code",
   "execution_count": 190,
   "id": "53da9ed1",
   "metadata": {},
   "outputs": [
    {
     "name": "stdout",
     "output_type": "stream",
     "text": [
      "                                            sentence  \\\n",
      "0  robert gottschalk 1939 academy award winner an...   \n",
      "1  1861 – 1875 ) : further research led in the 19...   \n",
      "2  the ideas were introduced by william burnside ...   \n",
      "3  thaddeus mosley ( a&s 1950 ) – sculptor who wo...   \n",
      "4  alicia gali was imprisoned for eight months fo...   \n",
      "\n",
      "                                                tags  text_complexity  \n",
      "0  [B-VisualWork, B-ORG, I-OtherPER, I-VisualWork...            70.13  \n",
      "1                                    [O, B-OtherPER]            44.75  \n",
      "2                        [O, I-OtherPER, B-OtherPER]            74.19  \n",
      "3                        [O, I-OtherPER, B-OtherPER]            63.02  \n",
      "4                        [O, I-OtherPER, B-OtherPER]            59.64  \n",
      "                                            sentence  \\\n",
      "0  eli lilly founder president of pharmaceutical ...   \n",
      "1  he was succeeded as chancellor by sir frank ki...   \n",
      "2       it was described by edward meyrick in 1915 .   \n",
      "3  having suffered depredation of the more movabl...   \n",
      "4  it was described by charles joseph gahan in 18...   \n",
      "\n",
      "                                                tags  text_complexity  \n",
      "0  [B-PublicCorp, B-OtherPROD, I-OtherPER, O, I-P...            43.06  \n",
      "1                        [O, I-OtherPER, B-OtherPER]            62.34  \n",
      "2                        [O, I-OtherPER, B-OtherPER]            88.74  \n",
      "3                        [O, I-OtherPER, B-OtherPER]            57.61  \n",
      "4                        [O, I-OtherPER, B-OtherPER]            96.18  \n",
      "                                            sentence  \\\n",
      "0  the species was described by dietrich brandis ...   \n",
      "1  by this time she was competing against a new g...   \n",
      "2  their son was the opera producer knut hendriks...   \n",
      "3        he is the younger brother of adam mosseri .   \n",
      "4                smes : laura j. van 't veer et al .   \n",
      "\n",
      "                          tags  text_complexity  \n",
      "0  [O, I-OtherPER, B-OtherPER]            66.74  \n",
      "1  [O, I-OtherPER, B-OtherPER]            60.65  \n",
      "2  [O, I-OtherPER, B-OtherPER]            78.25  \n",
      "3  [O, I-OtherPER, B-OtherPER]           105.66  \n",
      "4  [O, I-OtherPER, B-OtherPER]           109.72  \n"
     ]
    }
   ],
   "source": [
    "train_sentence_tc = text_complexity(train_sentences)\n",
    "val_sentence_tc = text_complexity(val_sentences)\n",
    "test_sentence_tc = text_complexity(test_sentences)\n",
    "\n",
    "print(train_sentence_tc.head(5))\n",
    "print(val_sentence_tc.head(5))\n",
    "print(test_sentence_tc.head(5))"
   ]
  },
  {
   "cell_type": "code",
   "execution_count": 191,
   "id": "ebc09496",
   "metadata": {},
   "outputs": [],
   "source": [
    "train_sentence_tc.to_csv('...', index=False)\n",
    "val_sentence_tc.to_csv('...', index=False)\n",
    "test_sentence_tc.to_csv('...', index=False)"
   ]
  },
  {
   "cell_type": "code",
   "execution_count": 192,
   "id": "b394cc08",
   "metadata": {},
   "outputs": [],
   "source": [
    "train_sentence_tc = pd.read_csv('...')\n",
    "val_sentence_tc = pd.read_csv('...')\n",
    "test_sentence_tc = pd.read_csv('...')"
   ]
  },
  {
   "cell_type": "code",
   "execution_count": 193,
   "id": "5d08ac10",
   "metadata": {},
   "outputs": [
    {
     "data": {
      "text/plain": [
       "<AxesSubplot:xlabel='text_complexity'>"
      ]
     },
     "execution_count": 193,
     "metadata": {},
     "output_type": "execute_result"
    },
    {
     "data": {
      "image/png": "[encoded data removed]",
      "text/plain": [
       "<Figure size 432x288 with 1 Axes>"
      ]
     },
     "metadata": {},
     "output_type": "display_data"
    }
   ],
   "source": [
    "# plot a histogram of the text complexity scores column for the training data\n",
    "sns.distplot(train_sentence_tc['text_complexity'], kde=False)"
   ]
  },
  {
   "cell_type": "code",
   "execution_count": 194,
   "id": "245e5f3b",
   "metadata": {},
   "outputs": [
    {
     "data": {
      "text/plain": [
       "<AxesSubplot:xlabel='text_complexity'>"
      ]
     },
     "execution_count": 194,
     "metadata": {},
     "output_type": "execute_result"
    },
    {
     "data": {
      "image/png": "[encoded data removed]",
      "text/plain": [
       "<Figure size 432x288 with 1 Axes>"
      ]
     },
     "metadata": {},
     "output_type": "display_data"
    }
   ],
   "source": [
    "# plot a histogram of the text complexity column for the validation data\n",
    "sns.distplot(val_sentence_tc['text_complexity'], kde=False)"
   ]
  },
  {
   "cell_type": "code",
   "execution_count": 195,
   "id": "804e32df",
   "metadata": {},
   "outputs": [
    {
     "data": {
      "text/plain": [
       "<AxesSubplot:xlabel='text_complexity'>"
      ]
     },
     "execution_count": 195,
     "metadata": {},
     "output_type": "execute_result"
    },
    {
     "data": {
      "image/png": "[encoded data removed]",
      "text/plain": [
       "<Figure size 432x288 with 1 Axes>"
      ]
     },
     "metadata": {},
     "output_type": "display_data"
    }
   ],
   "source": [
    "# plot a histogram of the text complexity column for the test data\n",
    "sns.distplot(test_sentence_tc['text_complexity'], kde=False)"
   ]
  },
  {
   "cell_type": "markdown",
   "id": "53ecd7ac",
   "metadata": {},
   "source": [
    "The histograms show that all data sets appear to contain outliers with a text complexity of around 200. We check whether these values are outliers or not and remove them if necessary. Additionally, the histograms show a spike around a text complexity score of 130/140, which should be inspected as this is a high score. "
   ]
  },
  {
   "cell_type": "code",
   "execution_count": 196,
   "id": "e15fdf6a",
   "metadata": {},
   "outputs": [
    {
     "data": {
      "text/html": [
       "<div>\n",
       "<style scoped>\n",
       "    .dataframe tbody tr th:only-of-type {\n",
       "        vertical-align: middle;\n",
       "    }\n",
       "\n",
       "    .dataframe tbody tr th {\n",
       "        vertical-align: top;\n",
       "    }\n",
       "\n",
       "    .dataframe thead th {\n",
       "        text-align: right;\n",
       "    }\n",
       "</style>\n",
       "<table border=\"1\" class=\"dataframe\">\n",
       "  <thead>\n",
       "    <tr style=\"text-align: right;\">\n",
       "      <th></th>\n",
       "      <th>sentence</th>\n",
       "      <th>tags</th>\n",
       "      <th>text_complexity</th>\n",
       "    </tr>\n",
       "  </thead>\n",
       "  <tbody>\n",
       "    <tr>\n",
       "      <th>262</th>\n",
       "      <td>) .</td>\n",
       "      <td>['O']</td>\n",
       "      <td>206.84</td>\n",
       "    </tr>\n",
       "    <tr>\n",
       "      <th>1322</th>\n",
       "      <td>.</td>\n",
       "      <td>['O']</td>\n",
       "      <td>206.84</td>\n",
       "    </tr>\n",
       "    <tr>\n",
       "      <th>1539</th>\n",
       "      <td>.</td>\n",
       "      <td>['O']</td>\n",
       "      <td>206.84</td>\n",
       "    </tr>\n",
       "    <tr>\n",
       "      <th>1540</th>\n",
       "      <td>.</td>\n",
       "      <td>['O']</td>\n",
       "      <td>206.84</td>\n",
       "    </tr>\n",
       "    <tr>\n",
       "      <th>1541</th>\n",
       "      <td>.</td>\n",
       "      <td>['O']</td>\n",
       "      <td>206.84</td>\n",
       "    </tr>\n",
       "  </tbody>\n",
       "</table>\n",
       "</div>"
      ],
      "text/plain": [
       "     sentence   tags  text_complexity\n",
       "262       ) .  ['O']           206.84\n",
       "1322        .  ['O']           206.84\n",
       "1539        .  ['O']           206.84\n",
       "1540        .  ['O']           206.84\n",
       "1541        .  ['O']           206.84"
      ]
     },
     "execution_count": 196,
     "metadata": {},
     "output_type": "execute_result"
    }
   ],
   "source": [
    "train_sentence_tc[train_sentence_tc['text_complexity'] == train_sentence_tc['text_complexity'].max()].head()"
   ]
  },
  {
   "cell_type": "code",
   "execution_count": 208,
   "id": "2badbca9",
   "metadata": {},
   "outputs": [
    {
     "data": {
      "text/html": [
       "<div>\n",
       "<style scoped>\n",
       "    .dataframe tbody tr th:only-of-type {\n",
       "        vertical-align: middle;\n",
       "    }\n",
       "\n",
       "    .dataframe tbody tr th {\n",
       "        vertical-align: top;\n",
       "    }\n",
       "\n",
       "    .dataframe thead th {\n",
       "        text-align: right;\n",
       "    }\n",
       "</style>\n",
       "<table border=\"1\" class=\"dataframe\">\n",
       "  <thead>\n",
       "    <tr style=\"text-align: right;\">\n",
       "      <th></th>\n",
       "      <th>sentence</th>\n",
       "      <th>tags</th>\n",
       "      <th>text_complexity</th>\n",
       "    </tr>\n",
       "  </thead>\n",
       "  <tbody>\n",
       "    <tr>\n",
       "      <th>31</th>\n",
       "      <td>in 2005 .</td>\n",
       "      <td>['O']</td>\n",
       "      <td>120.21</td>\n",
       "    </tr>\n",
       "    <tr>\n",
       "      <th>113</th>\n",
       "      <td>a .</td>\n",
       "      <td>['O']</td>\n",
       "      <td>121.22</td>\n",
       "    </tr>\n",
       "    <tr>\n",
       "      <th>114</th>\n",
       "      <td>a .</td>\n",
       "      <td>['O']</td>\n",
       "      <td>121.22</td>\n",
       "    </tr>\n",
       "    <tr>\n",
       "      <th>213</th>\n",
       "      <td>( sokui ) .</td>\n",
       "      <td>['O']</td>\n",
       "      <td>121.22</td>\n",
       "    </tr>\n",
       "    <tr>\n",
       "      <th>244</th>\n",
       "      <td>siegfried ( ca .</td>\n",
       "      <td>['O']</td>\n",
       "      <td>120.21</td>\n",
       "    </tr>\n",
       "  </tbody>\n",
       "</table>\n",
       "</div>"
      ],
      "text/plain": [
       "             sentence   tags  text_complexity\n",
       "31          in 2005 .  ['O']           120.21\n",
       "113               a .  ['O']           121.22\n",
       "114               a .  ['O']           121.22\n",
       "213       ( sokui ) .  ['O']           121.22\n",
       "244  siegfried ( ca .  ['O']           120.21"
      ]
     },
     "execution_count": 208,
     "metadata": {},
     "output_type": "execute_result"
    }
   ],
   "source": [
    "train_sentence_tc[train_sentence_tc['text_complexity'] > 120].head()"
   ]
  },
  {
   "cell_type": "markdown",
   "id": "66d4d491",
   "metadata": {},
   "source": [
    "The output shows that the \"sentences\" at a complexity score of around 206 are indeed outliers, as these are faulty values. Additionally, it appears that the sentences containing a complexity score larger than 120 are mostly faulty as well. These rows are removed from the data sets."
   ]
  },
  {
   "cell_type": "code",
   "execution_count": 209,
   "id": "8103baef",
   "metadata": {},
   "outputs": [],
   "source": [
    "# Remove \"sentences\" with a complexity score of 120 and higher\n",
    "train_sentence_tc = train_sentence_tc[train_sentence_tc['text_complexity'] < 120]\n",
    "val_sentence_tc = val_sentence_tc[val_sentence_tc['text_complexity'] < 120]\n",
    "test_sentence_tc = test_sentence_tc[test_sentence_tc['text_complexity'] < 120]"
   ]
  },
  {
   "cell_type": "code",
   "execution_count": 214,
   "id": "e49324a2",
   "metadata": {},
   "outputs": [
    {
     "name": "stdout",
     "output_type": "stream",
     "text": [
      "13829\n",
      "731\n",
      "206317\n"
     ]
    }
   ],
   "source": [
    "# Count the number of sentences per data set again\n",
    "print(len(train_sentence_tc))\n",
    "print(len(val_sentence_tc))\n",
    "print(len(test_sentence_tc))"
   ]
  },
  {
   "cell_type": "markdown",
   "id": "38e9dfa8",
   "metadata": {},
   "source": [
    "A small number of sentences was removed from the data, creating a cleaner data set consisting of a sufficient number of sentences."
   ]
  },
  {
   "cell_type": "markdown",
   "id": "2bb85b2c",
   "metadata": {},
   "source": [
    "### New Sentence Creation"
   ]
  },
  {
   "cell_type": "code",
   "execution_count": 5,
   "id": "68edc055",
   "metadata": {},
   "outputs": [],
   "source": [
    "def sentence_building(token_df):\n",
    "    sentences = []\n",
    "    tags = []\n",
    "    current_sentence = ''\n",
    "    current_tags = []\n",
    "\n",
    "    # iterate over the rows of the dataframe\n",
    "    for i, (word, tag) in enumerate(zip(token_df['id'], token_df['domain'])):\n",
    "        # check if the value of the row starts with \"# id\"\n",
    "        if str(word).startswith(\"# id\"):\n",
    "\n",
    "            # add the current sentence to the list of sentences\n",
    "            sentences.append(current_sentence.strip())\n",
    "            tags.append(current_tags)\n",
    "\n",
    "            # reset the current sentence\n",
    "            current_sentence = \"\"\n",
    "            current_tags = []\n",
    "\n",
    "        else:\n",
    "            # add the current word to the current sentence\n",
    "            current_sentence += str(word) + \" \"\n",
    "            if str(tag).startswith('B-') or str(tag).startswith('I-'):\n",
    "                current_tags.append(tag[2:])\n",
    "            else:\n",
    "                current_tags.append(tag)\n",
    "\n",
    "    # add the last sentence to the list of sentences\n",
    "    sentences.append(current_sentence.strip())\n",
    "    tags.append(current_tags)\n",
    "\n",
    "    sentence_df = pd.DataFrame({'sentence': sentences, 'tags': tags})\n",
    "    return sentence_df"
   ]
  },
  {
   "cell_type": "code",
   "execution_count": 6,
   "id": "c5919f05",
   "metadata": {},
   "outputs": [],
   "source": [
    "test_sentences = sentence_building(test)"
   ]
  },
  {
   "cell_type": "code",
   "execution_count": 7,
   "id": "197c979f",
   "metadata": {},
   "outputs": [],
   "source": [
    "test_sentences.to_csv('...', index=False)"
   ]
  },
  {
   "cell_type": "code",
   "execution_count": 11,
   "id": "c7a4e61a",
   "metadata": {},
   "outputs": [],
   "source": [
    "test_sentences.to_csv('...', index=False)"
   ]
  },
  {
   "cell_type": "markdown",
   "id": "938ac8d5",
   "metadata": {},
   "source": [
    "#### Doing the same for the training data to check the total number of sentences"
   ]
  },
  {
   "cell_type": "code",
   "execution_count": 12,
   "id": "aceaa301",
   "metadata": {},
   "outputs": [],
   "source": [
    "train_sentences = sentence_building(train)"
   ]
  },
  {
   "cell_type": "code",
   "execution_count": 13,
   "id": "4afd7802",
   "metadata": {},
   "outputs": [
    {
     "data": {
      "text/plain": [
       "16778"
      ]
     },
     "execution_count": 13,
     "metadata": {},
     "output_type": "execute_result"
    }
   ],
   "source": [
    "len(train_sentences)"
   ]
  },
  {
   "cell_type": "code",
   "execution_count": 15,
   "id": "ca9b7fab",
   "metadata": {},
   "outputs": [],
   "source": [
    "train_sentences.to_csv('...', index=False)"
   ]
  },
  {
   "cell_type": "code",
   "execution_count": 16,
   "id": "a24e2272",
   "metadata": {},
   "outputs": [
    {
     "name": "stdout",
     "output_type": "stream",
     "text": [
      "2\n"
     ]
    }
   ],
   "source": [
    "dev_sentences = sentence_building(val)\n",
    "print(len(dev_sentences_small))"
   ]
  },
  {
   "cell_type": "code",
   "execution_count": 19,
   "id": "c313cfcf",
   "metadata": {},
   "outputs": [],
   "source": [
    "dev_sentences.to_csv('...', index=False)"
   ]
  },
  {
   "cell_type": "code",
   "execution_count": 21,
   "id": "5ae2a490",
   "metadata": {},
   "outputs": [
    {
     "data": {
      "text/plain": [
       "249980"
      ]
     },
     "execution_count": 21,
     "metadata": {},
     "output_type": "execute_result"
    }
   ],
   "source": [
    "len(test_sentences)"
   ]
  }
 ],
 "metadata": {
  "kernelspec": {
   "display_name": "Python 3 (ipykernel)",
   "language": "python",
   "name": "python3"
  },
  "language_info": {
   "codemirror_mode": {
    "name": "ipython",
    "version": 3
   },
   "file_extension": ".py",
   "mimetype": "text/x-python",
   "name": "python",
   "nbconvert_exporter": "python",
   "pygments_lexer": "ipython3",
   "version": "3.9.12"
  },
  "vscode": {
   "interpreter": {
    "hash": "f4bc7a400e35f160b13ed52195005e41b219907c1be09b125a1c17e685484faa"
   }
  }
 },
 "nbformat": 4,
 "nbformat_minor": 5
}
