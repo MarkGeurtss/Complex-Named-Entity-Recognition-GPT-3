{
 "cells": [
  {
   "cell_type": "markdown",
   "id": "51d0c645",
   "metadata": {},
   "source": [
    "## Data preprocessing XLM-RoBERTa\n",
    "This file prepares the data to be used as input for the baseline, XLM-RoBERTa-Large"
   ]
  },
  {
   "cell_type": "code",
   "execution_count": null,
   "id": "b3931a2d",
   "metadata": {},
   "outputs": [],
   "source": [
    "import pandas as pd"
   ]
  },
  {
   "cell_type": "code",
   "execution_count": null,
   "id": "3e50ce98",
   "metadata": {},
   "outputs": [],
   "source": [
    "# Load in the data file\n",
    "# It should be loaded in as a DataFrame containing the columns \"id\" and \"domain\"\n",
    "# where a row contains a token in the column \"id\" and the corresponding BIO scheme\n",
    "# tag in column \"domain\"\n",
    "\n",
    "train = pd.read_csv(\"...\"\")\n",
    "train = pd.DataFrame(train)\n",
    "\n",
    "print(train.head())"
   ]
  },
  {
   "cell_type": "code",
   "execution_count": null,
   "id": "7a55f2ef",
   "metadata": {},
   "outputs": [],
   "source": [
    "# Load in the data file\n",
    "# It should be loaded in as a DataFrame containing the columns \"id\" and \"domain\"\n",
    "# where a row contains a token in the column \"id\" and the corresponding BIO scheme\n",
    "# tag in column \"domain\"\n",
    "\n",
    "dev = pd.read_csv(\"...\")\n",
    "dev = pd.DataFrame(dev)\n",
    "\n",
    "print(dev.head())"
   ]
  },
  {
   "cell_type": "code",
   "execution_count": null,
   "id": "0915069d",
   "metadata": {},
   "outputs": [],
   "source": [
    "# Load in the data file\n",
    "# It should be loaded in as a DataFrame containing the columns \"id\" and \"domain\"\n",
    "# where a row contains a token in the column \"id\" and the corresponding BIO scheme\n",
    "# tag in column \"domain\"\n",
    "\n",
    "test = pd.read_csv(\"...\")\n",
    "test = pd.DataFrame(test)\n",
    "\n",
    "print(test.head())"
   ]
  },
  {
   "cell_type": "code",
   "execution_count": null,
   "id": "b308f3f0",
   "metadata": {},
   "outputs": [],
   "source": [
    "# Load in the gpt_4000_1 dataframe created in the data_sampling file\n",
    "gpt_4000_1 = pd.read_csv(\"...\")\n",
    "\n",
    "\n",
    "print(gpt_4000_1)"
   ]
  },
  {
   "cell_type": "code",
   "execution_count": null,
   "id": "c3c63cdd",
   "metadata": {},
   "outputs": [],
   "source": [
    "# Load in the xlm_4000_1 dataframe created in the data_sampling file\n",
    "xlm_4000_1 = pd.read_csv(\"...\")\n",
    "\n",
    "\n",
    "print(xlm_4000_1)"
   ]
  },
  {
   "cell_type": "code",
   "execution_count": null,
   "id": "6bac1eb9",
   "metadata": {},
   "outputs": [],
   "source": [
    "def word_tag_tuple(df):\n",
    "    sentences = []\n",
    "    current_sentence = []\n",
    "    curr_tag = None\n",
    "    curr_tokens = []\n",
    "    tag_tokens = []\n",
    "    ne_list = []\n",
    "    sent_tags = []\n",
    "    tags = []\n",
    "    \n",
    "\n",
    "    # iterate over the rows of the dataframe\n",
    "    for i, (word, tag) in enumerate(zip(df['id'], df['domain'])):\n",
    "        if str(word).startswith(\"# id\"):\n",
    "            # Append previous sentence\n",
    "            sentences.append(current_sentence)\n",
    "                        \n",
    "            # Reset current sentence\n",
    "            current_sentence = []\n",
    "            \n",
    "        else: \n",
    "            # add the current word to the current sentence\n",
    "            current_sentence.append((word, tag))\n",
    "\n",
    "    # add the last sentence to the list of sentences\n",
    "    sentences.append(current_sentence)\n",
    "    \n",
    "#     print(sentences)\n",
    "#     print('-' * 25)\n",
    "#     print(tags)\n",
    "#     print('-' * 25)\n",
    "#     print(ne_list)\n",
    "    \n",
    "\n",
    "    tuple_df = pd.DataFrame({'sentence': sentences})\n",
    "    return tuple_df\n",
    "                \n",
    "            "
   ]
  },
  {
   "cell_type": "code",
   "execution_count": null,
   "id": "d5dd035e",
   "metadata": {},
   "outputs": [],
   "source": [
    "train_tuple = word_tag_tuple(train)\n",
    "dev_tuple = word_tag_tuple(dev)\n",
    "test_tuple = word_tag_tuple(test)"
   ]
  },
  {
   "cell_type": "code",
   "execution_count": null,
   "id": "b2680cac",
   "metadata": {},
   "outputs": [],
   "source": [
    "train_tuple.to_csv('...', index=False)\n",
    "dev_tuple.to_csv('...', index=False)\n",
    "test_tuple.to_csv('...', index=False)"
   ]
  },
  {
   "cell_type": "code",
   "execution_count": null,
   "id": "4485084f",
   "metadata": {},
   "outputs": [],
   "source": [
    "def second_word_tag_tuple(dataframe):\n",
    "    current_sentence_tuples = []\n",
    "    sentence_tuples = []\n",
    "    for i, row in dataframe.iterrows():\n",
    "        sentence = row['sentence'].split(' ')\n",
    "        tags = eval(row['tags'])\n",
    "        for index in range(len(sentence)):\n",
    "            current_sentence_tuples.append((sentence[index], tags[index]))\n",
    "        sentence_tuples.append(current_sentence_tuples)\n",
    "        current_sentence_tuples = []\n",
    "    \n",
    "    tuple_df = pd.DataFrame({'sentence': sentence_tuples})\n",
    "    return tuple_df"
   ]
  },
  {
   "cell_type": "code",
   "execution_count": null,
   "id": "a888a8b4",
   "metadata": {},
   "outputs": [],
   "source": [
    "gpt_4000_1_tuples = second_word_tag_tuple(gpt_4000_1)\n",
    "gpt_4000_1_tuples"
   ]
  },
  {
   "cell_type": "code",
   "execution_count": null,
   "id": "5ed98f3d",
   "metadata": {},
   "outputs": [],
   "source": [
    "xlm_4000_1_tuples = second_word_tag_tuple(xlm_4000_1)\n",
    "xlm_4000_1_tuples"
   ]
  },
  {
   "cell_type": "code",
   "execution_count": null,
   "id": "3ded45e7",
   "metadata": {},
   "outputs": [],
   "source": [
    "gpt_4000_1_tuples.to_csv('...', index=False)"
   ]
  },
  {
   "cell_type": "code",
   "execution_count": null,
   "id": "8ad1c952",
   "metadata": {},
   "outputs": [],
   "source": [
    "xlm_4000_1_tuples.to_csv('...', index=False)"
   ]
  }
 ],
 "metadata": {
  "kernelspec": {
   "display_name": "Python 3 (ipykernel)",
   "language": "python",
   "name": "python3"
  },
  "language_info": {
   "codemirror_mode": {
    "name": "ipython",
    "version": 3
   },
   "file_extension": ".py",
   "mimetype": "text/x-python",
   "name": "python",
   "nbconvert_exporter": "python",
   "pygments_lexer": "ipython3",
   "version": "3.9.12"
  }
 },
 "nbformat": 4,
 "nbformat_minor": 5
}
